{
 "cells": [
  {
   "cell_type": "markdown",
   "id": "a0538ffd",
   "metadata": {},
   "source": [
    "# Sclblpy"
   ]
  },
  {
   "cell_type": "markdown",
   "id": "ad08c752",
   "metadata": {},
   "source": [
    "#### Sclblpy is the core python package provided by Scailable to interact with our API. It allows you to create a scailable account,  add a device to your organisation, upload a model to sclbl admin and assign it to an existing device and many more other functionnalities."
   ]
  },
  {
   "cell_type": "code",
   "execution_count": 1,
   "id": "66f5dbf6",
   "metadata": {},
   "outputs": [],
   "source": [
    "import sclblpy as sp"
   ]
  },
  {
   "cell_type": "markdown",
   "id": "d65660c3",
   "metadata": {},
   "source": [
    "### Create an account "
   ]
  },
  {
   "cell_type": "code",
   "execution_count": 3,
   "id": "43c681ec",
   "metadata": {},
   "outputs": [
    {
     "name": "stdout",
     "output_type": "stream",
     "text": [
      "True\n"
     ]
    }
   ],
   "source": [
    "print(sp.register_('your name', 'your company', 'your_email@gmail.com', 'stroong_password'))\n",
    "# It is recommended to also add your job title and phone number when registering"
   ]
  },
  {
   "cell_type": "markdown",
   "id": "c4337d75",
   "metadata": {},
   "source": [
    "### Already have an account ? log in"
   ]
  },
  {
   "cell_type": "code",
   "execution_count": 15,
   "id": "4f3c503c",
   "metadata": {},
   "outputs": [
    {
     "name": "stdout",
     "output_type": "stream",
     "text": [
      "True\n"
     ]
    }
   ],
   "source": [
    "print(sp.log_in('your_email@gmail.com', 'stroong_password'))"
   ]
  },
  {
   "cell_type": "markdown",
   "id": "8fc57b45",
   "metadata": {},
   "source": [
    "### Register a device"
   ]
  },
  {
   "cell_type": "code",
   "execution_count": 17,
   "id": "ba345f2a",
   "metadata": {},
   "outputs": [
    {
     "name": "stdout",
     "output_type": "stream",
     "text": [
      "{'UUID': '5dbd022b-7eb7-4ebb-a3d6-b7f7f22e68da', 'Name': 'Device_name', 'Serial': None, 'Runtime': None, 'Type': None, 'InsertedAt': '2023-05-23T20:16:14.965041Z', 'UpdatedAt': '2023-05-23T20:16:14.965041Z', 'OnlineStatus': {'Online': False, 'OnlineAt': None}, 'FunctionCount': 0, 'Licenses': [{'UUID': '0b30a2d2-d46f-4f29-a1f8-6eab6a9e4fda', 'Agreement': {'Name': 'AI Manager License', 'Kind': 'trial'}, 'LicenseKey': '3ee4b776-368e-43ba-a480-d34837740fcb', 'StartsAt': '2023-05-23T20:16:15.003716Z', 'ExpiresAt': '2023-08-21T20:16:15.003716Z'}], 'Groups': None, 'Functions': []}\n",
      "Your device was successfully added to Scailable!\n",
      "You can use the '_all_devices()' function to list all your devices. \n",
      "\n",
      "True\n"
     ]
    }
   ],
   "source": [
    "print(sp.add_device('Device_name'))\n",
    "# You can also provide the runtime, and the device type and serial"
   ]
  },
  {
   "cell_type": "markdown",
   "id": "894d94cf",
   "metadata": {},
   "source": [
    "#### You can use the get_all_devices function to list all devices of your organisation"
   ]
  },
  {
   "cell_type": "code",
   "execution_count": 18,
   "id": "337d256d",
   "metadata": {},
   "outputs": [
    {
     "name": "stdout",
     "output_type": "stream",
     "text": [
      "[{'UUID': '5dbd022b-7eb7-4ebb-a3d6-b7f7f22e68da', 'Name': 'Device_name', 'Serial': None, 'Runtime': None, 'Type': None, 'InsertedAt': '2023-05-23T20:16:14.965041Z', 'UpdatedAt': '2023-05-23T20:16:14.965041Z', 'OnlineStatus': {'Online': False, 'OnlineAt': None}, 'FunctionCount': 0, 'Licenses': None, 'Groups': None}]\n"
     ]
    }
   ],
   "source": [
    "devices = sp.get_all_devices()\n",
    "print(devices)"
   ]
  },
  {
   "cell_type": "markdown",
   "id": "235bfe42",
   "metadata": {},
   "source": [
    "#### In order to use a device, you'll need its uuid"
   ]
  },
  {
   "cell_type": "code",
   "execution_count": 20,
   "id": "1dbfe0e2",
   "metadata": {},
   "outputs": [
    {
     "name": "stdout",
     "output_type": "stream",
     "text": [
      "5dbd022b-7eb7-4ebb-a3d6-b7f7f22e68da\n"
     ]
    }
   ],
   "source": [
    "for device in devices:\n",
    "    if device['Name'] == \"Device_name\":\n",
    "        device_uuid = device['UUID']\n",
    "        print(device_uuid)"
   ]
  },
  {
   "cell_type": "markdown",
   "id": "843a55cd",
   "metadata": {},
   "source": [
    "### (Optional) Build a model"
   ]
  },
  {
   "cell_type": "markdown",
   "id": "7165a180",
   "metadata": {},
   "source": [
    "##### While most .onnx files will work out of the box with sclblpy, many of you will aim to use sclblpy to deploy some kind of Neural Network trained in e.g. Pytorch. We'll show you briefly how to export a Neural Network from the torch.nn.Module ... module to onnx, but feel free to use your own model, as long as it can be exported to onnx (one caveat: Not every operator is currently supported, find a list of the ones that work [here](https://github.com/scailable/sclblonnx/blob/master/sclblonnx/supported_onnx.json).\n",
    "\n",
    "##### Our example won't even be trained, since we're only interested in the deployment part, essentially we'll be doing the first few steps from https://pytorch.org/tutorials/advanced/super_resolution_with_onnxruntime.html; feel free to do the rest of the tutorial as well!\n",
    "\n",
    "##### NOTE: pixel_shuffle() is not yet supported by our runtime, so we have to remove it before conversion"
   ]
  },
  {
   "cell_type": "code",
   "execution_count": 6,
   "id": "cbf5b8c7",
   "metadata": {},
   "outputs": [
    {
     "name": "stdout",
     "output_type": "stream",
     "text": [
      "SuperResolutionNet(\n",
      "  (relu): ReLU()\n",
      "  (conv1): Conv2d(1, 64, kernel_size=(5, 5), stride=(1, 1), padding=(2, 2))\n",
      "  (conv2): Conv2d(64, 64, kernel_size=(3, 3), stride=(1, 1), padding=(1, 1))\n",
      "  (conv3): Conv2d(64, 32, kernel_size=(3, 3), stride=(1, 1), padding=(1, 1))\n",
      "  (conv4): Conv2d(32, 9, kernel_size=(3, 3), stride=(1, 1), padding=(1, 1))\n",
      ")\n"
     ]
    }
   ],
   "source": [
    "import torch\n",
    "import torch.nn as nn\n",
    "import torch.nn.init as init\n",
    "\n",
    "\n",
    "class SuperResolutionNet(nn.Module):\n",
    "    def __init__(self, upscale_factor, inplace=False):\n",
    "        super(SuperResolutionNet, self).__init__()\n",
    "\n",
    "        self.relu = nn.ReLU(inplace=inplace)\n",
    "        self.conv1 = nn.Conv2d(1, 64, (5, 5), (1, 1), (2, 2))\n",
    "        self.conv2 = nn.Conv2d(64, 64, (3, 3), (1, 1), (1, 1))\n",
    "        self.conv3 = nn.Conv2d(64, 32, (3, 3), (1, 1), (1, 1))\n",
    "        self.conv4 = nn.Conv2d(32, upscale_factor ** 2, (3, 3), (1, 1), (1, 1))\n",
    "        #self.pixel_shuffle = nn.PixelShuffle(upscale_factor)\n",
    "\n",
    "        self._initialize_weights()\n",
    "\n",
    "    def forward(self, x):\n",
    "        x = self.relu(self.conv1(x))\n",
    "        x = self.relu(self.conv2(x))\n",
    "        x = self.relu(self.conv3(x))\n",
    "        #x = self.pixel_shuffle(self.conv4(x))\n",
    "        return x\n",
    "\n",
    "    def _initialize_weights(self):\n",
    "        init.orthogonal_(self.conv1.weight, init.calculate_gain('relu'))\n",
    "        init.orthogonal_(self.conv2.weight, init.calculate_gain('relu'))\n",
    "        init.orthogonal_(self.conv3.weight, init.calculate_gain('relu'))\n",
    "        init.orthogonal_(self.conv4.weight)\n",
    "\n",
    "# Create the super-resolution model by using the above model definition.\n",
    "torch_model = SuperResolutionNet(upscale_factor=3)\n",
    "\n",
    "print(torch_model)"
   ]
  },
  {
   "cell_type": "markdown",
   "id": "8c8e5053",
   "metadata": {},
   "source": [
    "##### So now we have our model, we'll call torch.eval() before we convert it to onnx"
   ]
  },
  {
   "cell_type": "code",
   "execution_count": 7,
   "id": "acb1e5ec",
   "metadata": {},
   "outputs": [
    {
     "data": {
      "text/plain": [
       "SuperResolutionNet(\n",
       "  (relu): ReLU()\n",
       "  (conv1): Conv2d(1, 64, kernel_size=(5, 5), stride=(1, 1), padding=(2, 2))\n",
       "  (conv2): Conv2d(64, 64, kernel_size=(3, 3), stride=(1, 1), padding=(1, 1))\n",
       "  (conv3): Conv2d(64, 32, kernel_size=(3, 3), stride=(1, 1), padding=(1, 1))\n",
       "  (conv4): Conv2d(32, 9, kernel_size=(3, 3), stride=(1, 1), padding=(1, 1))\n",
       ")"
      ]
     },
     "execution_count": 7,
     "metadata": {},
     "output_type": "execute_result"
    }
   ],
   "source": [
    "batch_size = 1    # just a random number\n",
    "\n",
    "\n",
    "# set the model to inference mode\n",
    "torch_model.eval()"
   ]
  },
  {
   "cell_type": "code",
   "execution_count": 22,
   "id": "3e882f83",
   "metadata": {},
   "outputs": [
    {
     "name": "stdout",
     "output_type": "stream",
     "text": [
      "============== Diagnostic Run torch.onnx.export version 2.0.1+cpu ==============\n",
      "verbose: False, log level: Level.ERROR\n",
      "======================= 0 NONE 0 NOTE 0 WARNING 0 ERROR ========================\n",
      "\n"
     ]
    }
   ],
   "source": [
    "# Input to the model\n",
    "x = torch.randn(batch_size, 1, 224, 224, requires_grad=True)\n",
    "torch_out = torch_model(x)\n",
    "\n",
    "# Export the model\n",
    "torch.onnx.export(torch_model,               # model being run\n",
    "                  x,                         # model input (or a tuple for multiple inputs)\n",
    "                  \"super_resolution.onnx\",   # where to save the model (can be a file or file-like object)\n",
    "                  export_params=True,        # store the trained parameter weights inside the model file\n",
    "                  opset_version=10,          # the ONNX version to export the model to\n",
    "                  do_constant_folding=True,  # whether to execute constant folding for optimization\n",
    "                  input_names = ['input'],   # the model's input names\n",
    "                  output_names = ['output'], # the model's output names\n",
    "                  dynamic_axes={'input' : {0 : 'batch_size'},    # variable length axes\n",
    "                                'output' : {0 : 'batch_size'}})"
   ]
  },
  {
   "cell_type": "markdown",
   "id": "e131ee93",
   "metadata": {},
   "source": [
    "###  Upload an onnx model"
   ]
  },
  {
   "cell_type": "code",
   "execution_count": 23,
   "id": "1eb2c006",
   "metadata": {},
   "outputs": [
    {
     "name": "stdout",
     "output_type": "stream",
     "text": [
      "Your ONNX file was successfully uploaded to Scailable!\n",
      "NOTE: After transpiling, we will send you an email and your model will be available at https://admin.sclbl.net.\n",
      "Or, alternatively, you can use the '_functions_list()' function to list all your uploaded models. \n",
      "\n",
      "True\n"
     ]
    }
   ],
   "source": [
    "print(sp.upload_model('super_resolution model', 'some doc', 'input driver', 'output driver', path='super_resolution.onnx'))"
   ]
  },
  {
   "cell_type": "markdown",
   "id": "1686d280",
   "metadata": {},
   "source": [
    "### (optional) wait for a few seconds to give the server time to convert the model"
   ]
  },
  {
   "cell_type": "code",
   "execution_count": 24,
   "id": "b9247c71",
   "metadata": {},
   "outputs": [],
   "source": [
    "import time\n",
    "\n",
    "time.sleep(15)\n",
    "\n",
    "\n",
    "#remove file\n",
    "import os\n",
    "if os.path.exists(\"super_resolution.onnx\"):\n",
    "    os.remove(\"super_resolution.onnx\")\n",
    "else:\n",
    "    print(\"The file does not exist\")"
   ]
  },
  {
   "cell_type": "markdown",
   "id": "f7bd9147",
   "metadata": {},
   "source": [
    "##### To see your uploaded model you can use the below function to list all models of your organisation"
   ]
  },
  {
   "cell_type": "code",
   "execution_count": 25,
   "id": "bdaddaae",
   "metadata": {},
   "outputs": [
    {
     "name": "stdout",
     "output_type": "stream",
     "text": [
      "[{'Organisation': {'UUID': 'de7521e4-7e7e-47df-82d7-4aa998c65f52', 'Name': 'your company'}, 'Catalogues': [], 'UUID': '14f08006-d189-4de6-b5d4-126111962bb2', 'Name': 'super_resolution model', 'Status': 'ok', 'Alias': '', 'Documentation': 'some doc', 'InputDriver': 'input driver', 'InputDriverDetails': {}, 'OutputDriver': 'output driver', 'OutputDriverDetails': {}, 'NamedInput': [{'DataType': 'float', 'Name': 'input', 'Shape': [1, 1, 224, 224]}], 'NamedOutput': [{'DataType': 'float', 'Name': 'output', 'Shape': [1, 32, 224, 224]}], 'DeviceCount': 0, 'UpdatedAt': '2023-05-23T20:17:21.303515Z', 'Code': {'Size': 429632}, 'SyncInformation': {}, 'Source': {'Name': None, 'Url': None}}]\n"
     ]
    }
   ],
   "source": [
    "models = sp.get_all_models()\n",
    "print(models)"
   ]
  },
  {
   "cell_type": "code",
   "execution_count": 27,
   "id": "7fc3faea",
   "metadata": {},
   "outputs": [
    {
     "name": "stdout",
     "output_type": "stream",
     "text": [
      "14f08006-d189-4de6-b5d4-126111962bb2\n"
     ]
    }
   ],
   "source": [
    "# Get the uuid of your model\n",
    "for model in models:\n",
    "    if model['Name'] == 'super_resolution model':\n",
    "        print(model['UUID'])"
   ]
  },
  {
   "cell_type": "markdown",
   "id": "e2702d18",
   "metadata": {},
   "source": [
    "### Update a model"
   ]
  },
  {
   "cell_type": "code",
   "execution_count": null,
   "id": "5cce8fc6",
   "metadata": {},
   "outputs": [],
   "source": [
    "print(sp.update_model('uuid', 'new_name', 'new doc', 'input_driver', 'output_driver'))"
   ]
  },
  {
   "cell_type": "markdown",
   "id": "0971ce65",
   "metadata": {},
   "source": [
    "### Assign a model to a device"
   ]
  },
  {
   "cell_type": "code",
   "execution_count": 28,
   "id": "cb1cf24d",
   "metadata": {},
   "outputs": [
    {
     "name": "stdout",
     "output_type": "stream",
     "text": [
      "Your model was successfully assigned to the device 5dbd022b-7eb7-4ebb-a3d6-b7f7f22e68da\n",
      "True\n"
     ]
    }
   ],
   "source": [
    "print(sp.assign_model_to_device('5dbd022b-7eb7-4ebb-a3d6-b7f7f22e68da', '14f08006-d189-4de6-b5d4-126111962bb2'))"
   ]
  },
  {
   "cell_type": "markdown",
   "id": "ee5c157f",
   "metadata": {},
   "source": [
    "### Delete a model"
   ]
  },
  {
   "cell_type": "code",
   "execution_count": null,
   "id": "fe5ecae5",
   "metadata": {},
   "outputs": [],
   "source": [
    "print(sp.delete_model(('14f08006-d189-4de6-b5d4-126111962bb2')))"
   ]
  },
  {
   "cell_type": "markdown",
   "id": "a3c521e5",
   "metadata": {},
   "source": [
    "## Other functionalities"
   ]
  },
  {
   "cell_type": "markdown",
   "id": "6efddc24",
   "metadata": {},
   "source": [
    "### Get all groups of your organisation (a group is a set of models)"
   ]
  },
  {
   "cell_type": "code",
   "execution_count": null,
   "id": "bc5b25ea",
   "metadata": {},
   "outputs": [],
   "source": [
    "print(sp.get_groups())"
   ]
  },
  {
   "cell_type": "markdown",
   "id": "5ebf9f75",
   "metadata": {},
   "source": [
    "### Add a device to a group"
   ]
  },
  {
   "cell_type": "code",
   "execution_count": null,
   "id": "3940c4fb",
   "metadata": {},
   "outputs": [],
   "source": [
    "print(sp.add_devices_to_group('uuid of the group', ['devices']))"
   ]
  }
 ],
 "metadata": {
  "kernelspec": {
   "display_name": "Python 3 (ipykernel)",
   "language": "python",
   "name": "python3"
  },
  "language_info": {
   "codemirror_mode": {
    "name": "ipython",
    "version": 3
   },
   "file_extension": ".py",
   "mimetype": "text/x-python",
   "name": "python",
   "nbconvert_exporter": "python",
   "pygments_lexer": "ipython3",
   "version": "3.9.7"
  }
 },
 "nbformat": 4,
 "nbformat_minor": 5
}

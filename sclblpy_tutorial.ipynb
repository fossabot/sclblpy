{
 "cells": [
  {
   "cell_type": "code",
   "execution_count": 1,
   "metadata": {},
   "outputs": [],
   "source": [
    "from sclblpy import main as sp"
   ]
  },
  {
   "cell_type": "markdown",
   "metadata": {},
   "source": [
    "# Sclblpy \n",
    "Sclblpy allows you to upload a `.onnx` model to your sclbl admin that can subsequently be assigned to a device that has previously been registered on your account.\n",
    "\n",
    "\n",
    "## (preliminary) make an account\n",
    "\n",
    "To make an account, visit [Scailable](https://admin.sclbl.net/signup.html)\n",
    "\n",
    "## (preliminary) register at least one device\n",
    "\n",
    "To register a device, follow the tutorial [here](https://github.com/scailable/sclbl-tutorials/tree/master/solutions-manuals/sclbl-local-ai-manager). You'll be required to get a license as well - just apply for one and you'll receive a local evaluation copy (or use your previously obtained one, or get in contact with us)\n",
    "\n",
    "If you've read the above already and are only looking for the command, it's `wget -q -O - https://get.sclbl.net | sudo bash` or `sudo /opt/sclbl/etc/init startui` if you've already installed the manager. NOTE: obviously do not run `sudo` commands if you're not sure what you're doing! \n",
    "\n",
    "NOTE: the device's device manager has to be running during this tutorial, otherwise the assignment will (somehwat obviously) not work.\n",
    "\n",
    "## sign in\n",
    "\n",
    "To use the package, you'll have to sign in with the username and password you've received in the previous step\n",
    "\n"
   ]
  },
  {
   "cell_type": "markdown",
   "metadata": {},
   "source": [
    "## (optional) build a model\n",
    "\n",
    "While most `.onnx` files will work out of the box with sclblpy, many of you will aim to use sclblpy to deploy some kind of Neural Network trained in e.g. Pytorch. We'll show you briefly how to export a Neural Network from the torch.nn.Module ... module to `onnx`, but feel free to use your own model, as long as it can be exported to `onnx` (one caveat: Not every operator is currently supported, find a list of the ones that work [here](https://github.com/scailable/sclblonnx/blob/master/sclblonnx/supported_onnx.json).\n",
    "\n",
    "Our example won't even be trained, since we're only interested in the deployment part, essentially we'll be doing the first few steps from https://pytorch.org/tutorials/advanced/super_resolution_with_onnxruntime.html; feel free to do the rest of the tutorial as well!\n",
    "\n",
    "\n",
    "NOTE: `pixel_shuffle()` is not yet supported by our runtime, so we have to remove it before conversion"
   ]
  },
  {
   "cell_type": "code",
   "execution_count": 2,
   "metadata": {},
   "outputs": [
    {
     "name": "stdout",
     "output_type": "stream",
     "text": [
      "SuperResolutionNet(\n",
      "  (relu): ReLU()\n",
      "  (conv1): Conv2d(1, 64, kernel_size=(5, 5), stride=(1, 1), padding=(2, 2))\n",
      "  (conv2): Conv2d(64, 64, kernel_size=(3, 3), stride=(1, 1), padding=(1, 1))\n",
      "  (conv3): Conv2d(64, 32, kernel_size=(3, 3), stride=(1, 1), padding=(1, 1))\n",
      "  (conv4): Conv2d(32, 9, kernel_size=(3, 3), stride=(1, 1), padding=(1, 1))\n",
      ")\n"
     ]
    }
   ],
   "source": [
    "import torch\n",
    "import torch.nn as nn\n",
    "import torch.nn.init as init\n",
    "\n",
    "\n",
    "class SuperResolutionNet(nn.Module):\n",
    "    def __init__(self, upscale_factor, inplace=False):\n",
    "        super(SuperResolutionNet, self).__init__()\n",
    "\n",
    "        self.relu = nn.ReLU(inplace=inplace)\n",
    "        self.conv1 = nn.Conv2d(1, 64, (5, 5), (1, 1), (2, 2))\n",
    "        self.conv2 = nn.Conv2d(64, 64, (3, 3), (1, 1), (1, 1))\n",
    "        self.conv3 = nn.Conv2d(64, 32, (3, 3), (1, 1), (1, 1))\n",
    "        self.conv4 = nn.Conv2d(32, upscale_factor ** 2, (3, 3), (1, 1), (1, 1))\n",
    "        #self.pixel_shuffle = nn.PixelShuffle(upscale_factor)\n",
    "\n",
    "        self._initialize_weights()\n",
    "\n",
    "    def forward(self, x):\n",
    "        x = self.relu(self.conv1(x))\n",
    "        x = self.relu(self.conv2(x))\n",
    "        x = self.relu(self.conv3(x))\n",
    "        #x = self.pixel_shuffle(self.conv4(x))\n",
    "        return x\n",
    "\n",
    "    def _initialize_weights(self):\n",
    "        init.orthogonal_(self.conv1.weight, init.calculate_gain('relu'))\n",
    "        init.orthogonal_(self.conv2.weight, init.calculate_gain('relu'))\n",
    "        init.orthogonal_(self.conv3.weight, init.calculate_gain('relu'))\n",
    "        init.orthogonal_(self.conv4.weight)\n",
    "\n",
    "# Create the super-resolution model by using the above model definition.\n",
    "torch_model = SuperResolutionNet(upscale_factor=3)\n",
    "\n",
    "print(torch_model)"
   ]
  },
  {
   "cell_type": "markdown",
   "metadata": {},
   "source": [
    "So now we have our model, we'll call torch.eval() before we convert it to onnx"
   ]
  },
  {
   "cell_type": "code",
   "execution_count": 3,
   "metadata": {},
   "outputs": [
    {
     "data": {
      "text/plain": [
       "SuperResolutionNet(\n",
       "  (relu): ReLU()\n",
       "  (conv1): Conv2d(1, 64, kernel_size=(5, 5), stride=(1, 1), padding=(2, 2))\n",
       "  (conv2): Conv2d(64, 64, kernel_size=(3, 3), stride=(1, 1), padding=(1, 1))\n",
       "  (conv3): Conv2d(64, 32, kernel_size=(3, 3), stride=(1, 1), padding=(1, 1))\n",
       "  (conv4): Conv2d(32, 9, kernel_size=(3, 3), stride=(1, 1), padding=(1, 1))\n",
       ")"
      ]
     },
     "execution_count": 3,
     "metadata": {},
     "output_type": "execute_result"
    }
   ],
   "source": [
    "\n",
    "batch_size = 1    # just a random number\n",
    "\n",
    "\n",
    "# set the model to inference mode\n",
    "torch_model.eval()"
   ]
  },
  {
   "cell_type": "code",
   "execution_count": 4,
   "metadata": {},
   "outputs": [
    {
     "name": "stderr",
     "output_type": "stream",
     "text": [
      "/home/thomas/anaconda3/lib/python3.7/site-packages/torch/onnx/utils.py:718: UserWarning: Provided key input for dynamic axes is not a valid input/output name\n",
      "  warnings.warn(\"Provided key {} for dynamic axes is not a valid input/output name\".format(key))\n",
      "/home/thomas/anaconda3/lib/python3.7/site-packages/torch/onnx/utils.py:718: UserWarning: Provided key output for dynamic axes is not a valid input/output name\n",
      "  warnings.warn(\"Provided key {} for dynamic axes is not a valid input/output name\".format(key))\n"
     ]
    }
   ],
   "source": [
    "# Input to the model\n",
    "x = torch.randn(batch_size, 1, 224, 224, requires_grad=True)\n",
    "torch_out = torch_model(x)\n",
    "\n",
    "# Export the model\n",
    "torch.onnx.export(torch_model,               # model being run\n",
    "                  x,                         # model input (or a tuple for multiple inputs)\n",
    "                  \"super_resolution.onnx\",   # where to save the model (can be a file or file-like object)\n",
    "                  export_params=True,        # store the trained parameter weights inside the model file\n",
    "                  opset_version=10,          # the ONNX version to export the model to\n",
    "                  do_constant_folding=True,  # whether to execute constant folding for optimization\n",
    "                  input_names = ['input'],   # the model's input names\n",
    "                  output_names = ['output'], # the model's output names\n",
    "                  dynamic_axes={'input' : {0 : 'batch_size'},    # variable length axes\n",
    "                                'output' : {0 : 'batch_size'}})"
   ]
  },
  {
   "cell_type": "markdown",
   "metadata": {},
   "source": [
    "## write some docs"
   ]
  },
  {
   "cell_type": "code",
   "execution_count": 5,
   "metadata": {},
   "outputs": [],
   "source": [
    "docs = {}\n",
    "docs['name'] = \"Faux Superresolution ONNX\"\n",
    "docs['documentation'] = \"A long .md thing....\""
   ]
  },
  {
   "cell_type": "markdown",
   "metadata": {},
   "source": [
    "## Upload the model to your admin (where we call the thing we upload stuff to?)"
   ]
  },
  {
   "cell_type": "code",
   "execution_count": 6,
   "metadata": {},
   "outputs": [
    {
     "name": "stdout",
     "output_type": "stream",
     "text": [
      "Your ONNX file was successfully uploaded to Scailable!\n",
      "NOTE: After transpiling, we will send you an email and your model will be available at https://admin.sclbl.net.\n",
      "Or, alternatively, you can use the 'models()' function to list all your uploaded models. \n",
      "\n"
     ]
    }
   ],
   "source": [
    "check = sp.upload_onnx(\"super_resolution.onnx\",\"\",docs)\n",
    "\n",
    "\n",
    "\n",
    "#note: this will take a bit"
   ]
  },
  {
   "cell_type": "markdown",
   "metadata": {},
   "source": [
    "## (optional) wait for a few seconds to give the server time to convert the model"
   ]
  },
  {
   "cell_type": "code",
   "execution_count": 7,
   "metadata": {},
   "outputs": [],
   "source": [
    "import time\n",
    "\n",
    "time.sleep(15)\n",
    "\n",
    "\n",
    "#remove file\n",
    "import os\n",
    "if os.path.exists(\"super_resolution.onnx\"):\n",
    "    os.remove(\"super_resolution.onnx\")\n",
    "else:\n",
    "    print(\"The file does not exist\")"
   ]
  },
  {
   "cell_type": "markdown",
   "metadata": {},
   "source": [
    "## (optional) check if the model has been uploaded\n",
    "\n",
    "Go to https://admin.sclbl.net/index.html to check if your model has been uploaded.\n",
    "\n",
    "Here you'll be able to check out your model's stats and assign a driver."
   ]
  },
  {
   "cell_type": "markdown",
   "metadata": {},
   "source": [
    "## get the id(s) of your device(s)\n",
    "\n",
    "In order to interact with your devices, you'll need the id of the model you'll want to interact with. Luckily, that's easy as a pie. The `_verbose = False` suppresses written output, the `_return=True` forces the method to return the data\n"
   ]
  },
  {
   "cell_type": "code",
   "execution_count": 11,
   "metadata": {},
   "outputs": [],
   "source": [
    "devices = sp.devices(_return=True,_verbose=False)\n",
    "\n"
   ]
  },
  {
   "cell_type": "code",
   "execution_count": 12,
   "metadata": {},
   "outputs": [
    {
     "data": {
      "text/plain": [
       "[{'created_day': '01 Mar 2022',\n",
       "  'created_time': '10:51:21:837',\n",
       "  'did': '4da83a6ab04a4ff19694414f20ce4a05-172308997771235',\n",
       "  'id': 1349,\n",
       "  'name': 'My Device',\n",
       "  'rid': '88356481-994d-11ec-92c8-96000113f32b',\n",
       "  'runtime': 'srp-runtime',\n",
       "  'type': 'CPU',\n",
       "  'uid': '91962e67-9bda-42d8-b5b7-7529314dde5e',\n",
       "  'updated_day': '01 Mar 2022',\n",
       "  'updated_time': '10:51:21:837'}]"
      ]
     },
     "execution_count": 12,
     "metadata": {},
     "output_type": "execute_result"
    }
   ],
   "source": [
    "devices"
   ]
  },
  {
   "cell_type": "markdown",
   "metadata": {},
   "source": [
    "`devices` will be a list of dictionaries containing a bunch of information about your devices, such as the id, did, rid, name, time of creation, runtime, ... However, this tutorial only requires `did` and `rid`"
   ]
  },
  {
   "cell_type": "code",
   "execution_count": 13,
   "metadata": {},
   "outputs": [],
   "source": [
    "device= [x for x in devices if x['name']=='My Device'][0]\n",
    "device_did = device['did']\n",
    "device_rid = device['rid']"
   ]
  },
  {
   "cell_type": "markdown",
   "metadata": {},
   "source": [
    "## get the model's ID"
   ]
  },
  {
   "cell_type": "code",
   "execution_count": 14,
   "metadata": {},
   "outputs": [
    {
     "data": {
      "text/plain": [
       "[{'agent': 'toolchain',\n",
       "  'alias': '',\n",
       "  'cfid': '44890d77-994d-11ec-92c8-96000113f32b',\n",
       "  'created_day': '01 Mar 2022',\n",
       "  'created_time': '10:49:28',\n",
       "  'cycles': '1',\n",
       "  'docs': 'A long .md thing....',\n",
       "  'exampleinput': '',\n",
       "  'exampleoutput': '',\n",
       "  'filename': '91962e67-9bda-42d8-b5b7-7529314dde5e-413ba4d8-994d-11ec-90b5-96000113f588.wasm',\n",
       "  'id': 621,\n",
       "  'input_driver': '',\n",
       "  'input_driver_details': '',\n",
       "  'jwt_secured': False,\n",
       "  'location': 'https://cdn.sclbl.net/file/44890d77-994d-11ec-92c8-96000113f32b.wasm',\n",
       "  'name': 'Faux Superresolution ONNX',\n",
       "  'output_driver': '',\n",
       "  'output_driver_details': '',\n",
       "  'profit': '0.1',\n",
       "  'updated_day': '01 Mar 2022',\n",
       "  'updated_time': '10:49:28'},\n",
       " {'agent': 'toolchain',\n",
       "  'alias': '',\n",
       "  'cfid': '94700e68-9932-11ec-92c8-96000113f32b',\n",
       "  'created_day': '01 Mar 2022',\n",
       "  'created_time': '07:38:25',\n",
       "  'cycles': '1',\n",
       "  'docs': 'A long .md thing.... UPDATED',\n",
       "  'exampleinput': '',\n",
       "  'exampleoutput': '',\n",
       "  'filename': '91962e67-9bda-42d8-b5b7-7529314dde5e-8e15d063-9932-11ec-90b5-96000113f588.wasm',\n",
       "  'id': 618,\n",
       "  'input_driver': None,\n",
       "  'input_driver_details': None,\n",
       "  'jwt_secured': False,\n",
       "  'location': 'https://cdn.sclbl.net/file/94700e68-9932-11ec-92c8-96000113f32b.wasm',\n",
       "  'name': 'Name of model - UPDATED',\n",
       "  'output_driver': None,\n",
       "  'output_driver_details': None,\n",
       "  'profit': '0.1',\n",
       "  'updated_day': '01 Mar 2022',\n",
       "  'updated_time': '07:39:56'},\n",
       " {'agent': 'toolchain',\n",
       "  'alias': '',\n",
       "  'cfid': 'cbb8794d-8e46-11ec-9adf-96000113f32b',\n",
       "  'created_day': '15 Feb 2022',\n",
       "  'created_time': '10:05:26',\n",
       "  'cycles': '1',\n",
       "  'docs': 'A long .md thing.... UPDATED',\n",
       "  'exampleinput': '',\n",
       "  'exampleoutput': '',\n",
       "  'filename': '91962e67-9bda-42d8-b5b7-7529314dde5e-c4f0d18d-8e46-11ec-9c0c-96000113f588.wasm',\n",
       "  'id': 586,\n",
       "  'input_driver': None,\n",
       "  'input_driver_details': None,\n",
       "  'jwt_secured': False,\n",
       "  'location': 'https://cdn.sclbl.net/file/cbb8794d-8e46-11ec-9adf-96000113f32b.wasm',\n",
       "  'name': 'Name of model - UPDATED',\n",
       "  'output_driver': None,\n",
       "  'output_driver_details': None,\n",
       "  'profit': '0.1',\n",
       "  'updated_day': '15 Feb 2022',\n",
       "  'updated_time': '13:02:03'},\n",
       " {'agent': 'toolchain',\n",
       "  'alias': '',\n",
       "  'cfid': 'fac0cc48-8806-11ec-8685-9600004e79cc',\n",
       "  'created_day': '07 Feb 2022',\n",
       "  'created_time': '12:13:44',\n",
       "  'cycles': '1',\n",
       "  'docs': 'A long .md thing....',\n",
       "  'exampleinput': '',\n",
       "  'exampleoutput': '',\n",
       "  'filename': '91962e67-9bda-42d8-b5b7-7529314dde5e-f158130f-8806-11ec-8c48-9600004e7a82.wasm',\n",
       "  'id': 571,\n",
       "  'input_driver': '',\n",
       "  'input_driver_details': '',\n",
       "  'jwt_secured': False,\n",
       "  'location': 'https://cdn.sclbl.net:8000/file/fac0cc48-8806-11ec-8685-9600004e79cc.wasm',\n",
       "  'name': 'Name of ONNX model',\n",
       "  'output_driver': '',\n",
       "  'output_driver_details': '',\n",
       "  'profit': '0.1',\n",
       "  'updated_day': '07 Feb 2022',\n",
       "  'updated_time': '12:13:44'},\n",
       " {'agent': 'toolchain',\n",
       "  'alias': '',\n",
       "  'cfid': 'b794c972-8805-11ec-8685-9600004e79cc',\n",
       "  'created_day': '07 Feb 2022',\n",
       "  'created_time': '12:04:42',\n",
       "  'cycles': '1',\n",
       "  'docs': 'A long .md thing....',\n",
       "  'exampleinput': '',\n",
       "  'exampleoutput': '',\n",
       "  'filename': '91962e67-9bda-42d8-b5b7-7529314dde5e-ae872b45-8805-11ec-94d8-9600004e7a82.wasm',\n",
       "  'id': 570,\n",
       "  'input_driver': '',\n",
       "  'input_driver_details': '',\n",
       "  'jwt_secured': False,\n",
       "  'location': 'https://cdn.sclbl.net:8000/file/b794c972-8805-11ec-8685-9600004e79cc.wasm',\n",
       "  'name': 'Name of ONNX model',\n",
       "  'output_driver': '',\n",
       "  'output_driver_details': '',\n",
       "  'profit': '0.1',\n",
       "  'updated_day': '07 Feb 2022',\n",
       "  'updated_time': '12:04:42'},\n",
       " {'agent': 'toolchain',\n",
       "  'alias': '',\n",
       "  'cfid': 'a33f6e55-8805-11ec-8685-9600004e79cc',\n",
       "  'created_day': '07 Feb 2022',\n",
       "  'created_time': '12:04:02',\n",
       "  'cycles': '1',\n",
       "  'docs': 'A long .md thing....',\n",
       "  'exampleinput': '',\n",
       "  'exampleoutput': '',\n",
       "  'filename': '91962e67-9bda-42d8-b5b7-7529314dde5e-9f64003b-8805-11ec-b366-9600004e7a82.wasm',\n",
       "  'id': 569,\n",
       "  'input_driver': '',\n",
       "  'input_driver_details': '',\n",
       "  'jwt_secured': False,\n",
       "  'location': 'https://cdn.sclbl.net:8000/file/a33f6e55-8805-11ec-8685-9600004e79cc.wasm',\n",
       "  'name': 'Faux Superresolution ONNX',\n",
       "  'output_driver': '',\n",
       "  'output_driver_details': '',\n",
       "  'profit': '0.1',\n",
       "  'updated_day': '07 Feb 2022',\n",
       "  'updated_time': '12:04:02'},\n",
       " {'agent': 'toolchain',\n",
       "  'alias': '',\n",
       "  'cfid': 'd5d9fb61-87ec-11ec-8685-9600004e79cc',\n",
       "  'created_day': '07 Feb 2022',\n",
       "  'created_time': '09:06:34',\n",
       "  'cycles': '1',\n",
       "  'docs': 'A long .md thing....',\n",
       "  'exampleinput': '',\n",
       "  'exampleoutput': '',\n",
       "  'filename': '91962e67-9bda-42d8-b5b7-7529314dde5e-cc9de4f0-87ec-11ec-bf11-9600004e7a82.wasm',\n",
       "  'id': 568,\n",
       "  'input_driver': '',\n",
       "  'input_driver_details': '',\n",
       "  'jwt_secured': False,\n",
       "  'location': 'https://cdn.sclbl.net:8000/file/d5d9fb61-87ec-11ec-8685-9600004e79cc.wasm',\n",
       "  'name': 'Name of ONNX model',\n",
       "  'output_driver': '',\n",
       "  'output_driver_details': '',\n",
       "  'profit': '0.1',\n",
       "  'updated_day': '07 Feb 2022',\n",
       "  'updated_time': '09:06:34'},\n",
       " {'agent': 'toolchain',\n",
       "  'alias': '',\n",
       "  'cfid': '8b69bed9-87ec-11ec-8685-9600004e79cc',\n",
       "  'created_day': '07 Feb 2022',\n",
       "  'created_time': '09:04:30',\n",
       "  'cycles': '1',\n",
       "  'docs': 'A long .md thing....',\n",
       "  'exampleinput': '',\n",
       "  'exampleoutput': '',\n",
       "  'filename': '91962e67-9bda-42d8-b5b7-7529314dde5e-81c16a37-87ec-11ec-9bc1-9600004e7a82.wasm',\n",
       "  'id': 567,\n",
       "  'input_driver': '',\n",
       "  'input_driver_details': '',\n",
       "  'jwt_secured': False,\n",
       "  'location': 'https://cdn.sclbl.net:8000/file/8b69bed9-87ec-11ec-8685-9600004e79cc.wasm',\n",
       "  'name': 'Name of ONNX model',\n",
       "  'output_driver': '',\n",
       "  'output_driver_details': '',\n",
       "  'profit': '0.1',\n",
       "  'updated_day': '07 Feb 2022',\n",
       "  'updated_time': '09:04:30'},\n",
       " {'agent': 'toolchain',\n",
       "  'alias': '',\n",
       "  'cfid': '3a87b7f7-87eb-11ec-8685-9600004e79cc',\n",
       "  'created_day': '07 Feb 2022',\n",
       "  'created_time': '08:55:05',\n",
       "  'cycles': '1',\n",
       "  'docs': 'A long .md thing....',\n",
       "  'exampleinput': '',\n",
       "  'exampleoutput': '',\n",
       "  'filename': '91962e67-9bda-42d8-b5b7-7529314dde5e-31479ddd-87eb-11ec-9f17-9600004e7a82.wasm',\n",
       "  'id': 566,\n",
       "  'input_driver': '',\n",
       "  'input_driver_details': '',\n",
       "  'jwt_secured': False,\n",
       "  'location': 'https://cdn.sclbl.net:8000/file/3a87b7f7-87eb-11ec-8685-9600004e79cc.wasm',\n",
       "  'name': 'Name of ONNX model',\n",
       "  'output_driver': '',\n",
       "  'output_driver_details': '',\n",
       "  'profit': '0.1',\n",
       "  'updated_day': '07 Feb 2022',\n",
       "  'updated_time': '08:55:05'}]"
      ]
     },
     "execution_count": 14,
     "metadata": {},
     "output_type": "execute_result"
    }
   ],
   "source": [
    "models = sp.models(_return=True, _verbose=False)\n",
    "models"
   ]
  },
  {
   "cell_type": "code",
   "execution_count": 15,
   "metadata": {},
   "outputs": [],
   "source": [
    "model = [x for x in models if x['name'] == docs['name']][0]\n"
   ]
  },
  {
   "cell_type": "code",
   "execution_count": 16,
   "metadata": {},
   "outputs": [],
   "source": [
    "model_cfid = model['cfid']\n"
   ]
  },
  {
   "cell_type": "code",
   "execution_count": 17,
   "metadata": {},
   "outputs": [
    {
     "data": {
      "text/plain": [
       "{'agent': 'toolchain',\n",
       " 'alias': '',\n",
       " 'cfid': '44890d77-994d-11ec-92c8-96000113f32b',\n",
       " 'created_day': '01 Mar 2022',\n",
       " 'created_time': '10:49:28',\n",
       " 'cycles': '1',\n",
       " 'docs': 'A long .md thing....',\n",
       " 'exampleinput': '',\n",
       " 'exampleoutput': '',\n",
       " 'filename': '91962e67-9bda-42d8-b5b7-7529314dde5e-413ba4d8-994d-11ec-90b5-96000113f588.wasm',\n",
       " 'id': 621,\n",
       " 'input_driver': '',\n",
       " 'input_driver_details': '',\n",
       " 'jwt_secured': False,\n",
       " 'location': 'https://cdn.sclbl.net/file/44890d77-994d-11ec-92c8-96000113f32b.wasm',\n",
       " 'name': 'Faux Superresolution ONNX',\n",
       " 'output_driver': '',\n",
       " 'output_driver_details': '',\n",
       " 'profit': '0.1',\n",
       " 'updated_day': '01 Mar 2022',\n",
       " 'updated_time': '10:49:28'}"
      ]
     },
     "execution_count": 17,
     "metadata": {},
     "output_type": "execute_result"
    }
   ],
   "source": [
    "model"
   ]
  },
  {
   "cell_type": "markdown",
   "metadata": {},
   "source": [
    "## Assign the model to a device\n",
    "\n"
   ]
  },
  {
   "cell_type": "code",
   "execution_count": 18,
   "metadata": {},
   "outputs": [
    {
     "name": "stdout",
     "output_type": "stream",
     "text": [
      "Your assignment has been added. \n",
      "\n"
     ]
    },
    {
     "data": {
      "text/plain": [
       "True"
      ]
     },
     "execution_count": 18,
     "metadata": {},
     "output_type": "execute_result"
    }
   ],
   "source": [
    "sp.assign(model_cfid, device_did, device_rid, _verbose=True)\n"
   ]
  },
  {
   "cell_type": "markdown",
   "metadata": {},
   "source": [
    "##  a model"
   ]
  },
  {
   "cell_type": "code",
   "execution_count": 19,
   "metadata": {},
   "outputs": [],
   "source": [
    "\n",
    "# Export the model\n",
    "torch.onnx.export(torch_model,               # model being run\n",
    "                  x,                         # model input (or a tuple for multiple inputs)\n",
    "                  \"super_resolution_new.onnx\",   # where to save the model (can be a file or file-like object)\n",
    "                  export_params=True,        # store the trained parameter weights inside the model file\n",
    "                  opset_version=10,          # the ONNX version to export the model to\n",
    "                  do_constant_folding=True,  # whether to execute constant folding for optimization\n",
    "                  input_names = ['input_new'],   # the model's input names\n",
    "                  output_names = ['output_new'], # the model's output names\n",
    "                  dynamic_axes={'input' : {0 : 'batch_size'},    # variable length axes\n",
    "                                'output' : {0 : 'batch_size'}})"
   ]
  },
  {
   "cell_type": "code",
   "execution_count": 20,
   "metadata": {},
   "outputs": [
    {
     "name": "stdout",
     "output_type": "stream",
     "text": [
      "Your model was successfully submitted for an update. \n",
      "\n"
     ]
    },
    {
     "data": {
      "text/plain": [
       "True"
      ]
     },
     "execution_count": 20,
     "metadata": {},
     "output_type": "execute_result"
    }
   ],
   "source": [
    "sp.update_onnx(\"super_resolution_new.onnx\",model_cfid,\"\",docs)"
   ]
  },
  {
   "cell_type": "code",
   "execution_count": 21,
   "metadata": {},
   "outputs": [],
   "source": [
    "\n",
    "time.sleep(15)\n",
    "\n",
    "\n",
    "#remove file\n",
    "import os\n",
    "if os.path.exists(\"super_resolution_new.onnx\"):\n",
    "    os.remove(\"super_resolution_new.onnx\")\n",
    "else:\n",
    "    print(\"The file does not exist\")"
   ]
  },
  {
   "cell_type": "code",
   "execution_count": 22,
   "metadata": {},
   "outputs": [],
   "source": [
    "models = sp.models(_return=True, _verbose=False)\n",
    "model = [x for x in models if x['name'] == docs['name']][0]\n"
   ]
  },
  {
   "cell_type": "code",
   "execution_count": 23,
   "metadata": {},
   "outputs": [
    {
     "data": {
      "text/plain": [
       "{'agent': 'toolchain',\n",
       " 'alias': '',\n",
       " 'cfid': '44890d77-994d-11ec-92c8-96000113f32b',\n",
       " 'created_day': '01 Mar 2022',\n",
       " 'created_time': '10:49:28',\n",
       " 'cycles': '1',\n",
       " 'docs': 'A long .md thing....',\n",
       " 'exampleinput': '',\n",
       " 'exampleoutput': '',\n",
       " 'filename': '91962e67-9bda-42d8-b5b7-7529314dde5e-413ba4d8-994d-11ec-90b5-96000113f588.wasm',\n",
       " 'id': 621,\n",
       " 'input_driver': None,\n",
       " 'input_driver_details': None,\n",
       " 'jwt_secured': False,\n",
       " 'location': 'https://cdn.sclbl.net/file/44890d77-994d-11ec-92c8-96000113f32b.wasm',\n",
       " 'name': 'Faux Superresolution ONNX',\n",
       " 'output_driver': None,\n",
       " 'output_driver_details': None,\n",
       " 'profit': '0.1',\n",
       " 'updated_day': '01 Mar 2022',\n",
       " 'updated_time': '10:52:37'}"
      ]
     },
     "execution_count": 23,
     "metadata": {},
     "output_type": "execute_result"
    }
   ],
   "source": [
    "model"
   ]
  },
  {
   "cell_type": "markdown",
   "metadata": {},
   "source": [
    "## models a model's docs"
   ]
  },
  {
   "cell_type": "code",
   "execution_count": 24,
   "metadata": {},
   "outputs": [
    {
     "name": "stdout",
     "output_type": "stream",
     "text": [
      "{'name': 'a newly named Superresolution ONNX', 'documentation': 'An even longer .md thing....'}\n",
      "Your model documentation has been updated. \n",
      "\n"
     ]
    },
    {
     "data": {
      "text/plain": [
       "True"
      ]
     },
     "execution_count": 24,
     "metadata": {},
     "output_type": "execute_result"
    }
   ],
   "source": [
    "docs = {}\n",
    "docs['name'] = \"a newly named Superresolution ONNX\"\n",
    "docs['documentation'] = \"An even longer .md thing....\"\n",
    "\n",
    "sp.update_docs(model_cfid, docs)\n"
   ]
  },
  {
   "cell_type": "markdown",
   "metadata": {},
   "source": [
    "## redeploy\n"
   ]
  },
  {
   "cell_type": "markdown",
   "metadata": {},
   "source": [
    "## delte model"
   ]
  },
  {
   "cell_type": "code",
   "execution_count": 25,
   "metadata": {},
   "outputs": [
    {
     "name": "stdout",
     "output_type": "stream",
     "text": [
      "Endpoint with cfid 44890d77-994d-11ec-92c8-96000113f32b was successfully deleted.\n"
     ]
    },
    {
     "data": {
      "text/plain": [
       "True"
      ]
     },
     "execution_count": 25,
     "metadata": {},
     "output_type": "execute_result"
    }
   ],
   "source": [
    "sp.delete_model(model_cfid)  # Where cfid is the compute function id\n"
   ]
  },
  {
   "cell_type": "code",
   "execution_count": 26,
   "metadata": {},
   "outputs": [
    {
     "name": "stdout",
     "output_type": "stream",
     "text": [
      "You currently own the following endpoints:\n",
      "\n",
      "  1: Name of model - UPDATED, \n",
      "   - cfid: 94700e68-9932-11ec-92c8-96000113f32b \n",
      "   - example: https://admin.sclbl.net/run.html?cfid=94700e68-9932-11ec-92c8-96000113f32b&exin= \n",
      "\n",
      "  2: Name of model - UPDATED, \n",
      "   - cfid: cbb8794d-8e46-11ec-9adf-96000113f32b \n",
      "   - example: https://admin.sclbl.net/run.html?cfid=cbb8794d-8e46-11ec-9adf-96000113f32b&exin= \n",
      "\n",
      "  3: Name of ONNX model, \n",
      "   - cfid: fac0cc48-8806-11ec-8685-9600004e79cc \n",
      "   - example: https://admin.sclbl.net/run.html?cfid=fac0cc48-8806-11ec-8685-9600004e79cc&exin= \n",
      "\n",
      "  4: Name of ONNX model, \n",
      "   - cfid: b794c972-8805-11ec-8685-9600004e79cc \n",
      "   - example: https://admin.sclbl.net/run.html?cfid=b794c972-8805-11ec-8685-9600004e79cc&exin= \n",
      "\n",
      "  5: Faux Superresolution ONNX, \n",
      "   - cfid: a33f6e55-8805-11ec-8685-9600004e79cc \n",
      "   - example: https://admin.sclbl.net/run.html?cfid=a33f6e55-8805-11ec-8685-9600004e79cc&exin= \n",
      "\n",
      "  6: Name of ONNX model, \n",
      "   - cfid: d5d9fb61-87ec-11ec-8685-9600004e79cc \n",
      "   - example: https://admin.sclbl.net/run.html?cfid=d5d9fb61-87ec-11ec-8685-9600004e79cc&exin= \n",
      "\n",
      "  7: Name of ONNX model, \n",
      "   - cfid: 8b69bed9-87ec-11ec-8685-9600004e79cc \n",
      "   - example: https://admin.sclbl.net/run.html?cfid=8b69bed9-87ec-11ec-8685-9600004e79cc&exin= \n",
      "\n",
      "  8: Name of ONNX model, \n",
      "   - cfid: 3a87b7f7-87eb-11ec-8685-9600004e79cc \n",
      "   - example: https://admin.sclbl.net/run.html?cfid=3a87b7f7-87eb-11ec-8685-9600004e79cc&exin= \n",
      "\n",
      "Login at https://admin.sclbl.net to administer your endpoints and see integration examples.\n",
      "\n"
     ]
    },
    {
     "data": {
      "text/plain": [
       "True"
      ]
     },
     "execution_count": 26,
     "metadata": {},
     "output_type": "execute_result"
    }
   ],
   "source": [
    "sp.models()"
   ]
  },
  {
   "cell_type": "code",
   "execution_count": null,
   "metadata": {},
   "outputs": [],
   "source": []
  },
  {
   "cell_type": "code",
   "execution_count": null,
   "metadata": {},
   "outputs": [],
   "source": []
  }
 ],
 "metadata": {
  "kernelspec": {
   "display_name": "Python 3 (ipykernel)",
   "language": "python",
   "name": "python3"
  },
  "language_info": {
   "codemirror_mode": {
    "name": "ipython",
    "version": 3
   },
   "file_extension": ".py",
   "mimetype": "text/x-python",
   "name": "python",
   "nbconvert_exporter": "python",
   "pygments_lexer": "ipython3",
   "version": "3.7.4"
  }
 },
 "nbformat": 4,
 "nbformat_minor": 5
}
